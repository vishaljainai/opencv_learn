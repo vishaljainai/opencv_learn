{
 "cells": [
  {
   "cell_type": "markdown",
   "metadata": {},
   "source": [
    "### Introduction\n",
    "#### Ref\n",
    "[Introduction to Opencv-python](https://opencv-python-tutroals.readthedocs.io/en/latest/py_tutorials/py_setup/py_table_of_contents_setup/py_table_of_contents_setup.html)\n",
    "\n",
    "#### Notes\n",
    "1. OpenCV is algorithm library/package for CV universe also providing several helper constructs. It has implementations for several compute platforms like linux, OSX, Android and supports several popular prog langs like C++, JAVA, python. Interfaces with OpenCL and CUDA for faster GPU based computation.\n",
    "2. OpenCV-python is python package which is basically python wrapper on C++ core API implementation.\n",
    "3. The OpenCV array structs can be manipulated as `numpy` (highly optimized Matrix computation package) ndarrays. Thus data structures are naturally compatible with `scipy` and `matplotlib` packages."
   ]
  },
  {
   "cell_type": "code",
   "execution_count": 1,
   "metadata": {},
   "outputs": [],
   "source": [
    "import cv2"
   ]
  },
  {
   "cell_type": "markdown",
   "metadata": {},
   "source": [
    "### Working with Image data\n",
    "#### Ref\n",
    "[Getting started with Images](https://opencv-python-tutroals.readthedocs.io/en/latest/py_tutorials/py_gui/py_image_display/py_image_display.html)\n",
    "#### Notes\n",
    "1. Basics of reading an image file, displaying and writing array as image file.\n",
    "2. We can also use `matplotlib` for plotting"
   ]
  },
  {
   "cell_type": "code",
   "execution_count": 2,
   "metadata": {},
   "outputs": [
    {
     "name": "stdout",
     "output_type": "stream",
     "text": [
      "<class 'numpy.ndarray'>\n",
      "(334, 771, 4)\n"
     ]
    }
   ],
   "source": [
    "# Read an Image\n",
    "\n",
    "img = cv2.imread('/home/cognitifai/Pictures/image1.png', -1) \n",
    "# second argument specifies the way image should be read. 0-BGR/1-Grayscale/-1 -> BGRA\n",
    "print(type(img)) # its a ndarray\n",
    "print(img.shape)"
   ]
  },
  {
   "cell_type": "code",
   "execution_count": 3,
   "metadata": {},
   "outputs": [
    {
     "name": "stdout",
     "output_type": "stream",
     "text": [
      "Done displaying, now closing opened window\n"
     ]
    }
   ],
   "source": [
    "# Display image\n",
    "wind_name = \"Image view\"\n",
    "cv2.imshow(wind_name, img)  # window size is same as that of the image\n",
    "cv2.waitKey(4000)  # wait for 4000 ms\n",
    "print(\"Done displaying, now closing opened window\")\n",
    "# cv2.destroyAllWindows()\n",
    "cv2.destroyWindow(wind_name)"
   ]
  },
  {
   "cell_type": "code",
   "execution_count": 4,
   "metadata": {},
   "outputs": [
    {
     "name": "stdout",
     "output_type": "stream",
     "text": [
      "Displayed an Image\n"
     ]
    }
   ],
   "source": [
    "cv2.imshow(\"Image\",img)\n",
    "cv2.waitKey(0)\n",
    "print('Displayed an Image')\n",
    "cv2.destroyAllWindows()"
   ]
  },
  {
   "cell_type": "code",
   "execution_count": null,
   "metadata": {},
   "outputs": [],
   "source": [
    "# Display image in customized window\n",
    "wind_name = 'Resizable custom display window'\n",
    "cv2.namedWindow(wind_name, cv2.WINDOW_NORMAL)\n",
    "cv2.imshow(wind_name, img)\n",
    "cv2.waitKey(0) # Wait indefinitely for key response from user\n",
    "cv2.destroyAllWindows()"
   ]
  },
  {
   "cell_type": "code",
   "execution_count": 5,
   "metadata": {},
   "outputs": [
    {
     "data": {
      "text/plain": [
       "True"
      ]
     },
     "execution_count": 5,
     "metadata": {},
     "output_type": "execute_result"
    }
   ],
   "source": [
    "# Write ndarray to an image file\n",
    "cv2.imwrite('/home/cognitifai/Pictures/image1_cp.png', img)"
   ]
  },
  {
   "cell_type": "code",
   "execution_count": 6,
   "metadata": {},
   "outputs": [],
   "source": [
    "# Use matplotlib for plotting/displaying image\n",
    "import matplotlib.pyplot as plt"
   ]
  },
  {
   "cell_type": "code",
   "execution_count": 13,
   "metadata": {},
   "outputs": [
    {
     "data": {
      "image/png": "[encoded data removed]",
      "text/plain": [
       "<Figure size 432x288 with 1 Axes>"
      ]
     },
     "metadata": {},
     "output_type": "display_data"
    }
   ],
   "source": [
    "plt.imshow(cv2.cvtColor(img, \n",
    "                        cv2.COLOR_BGR2RGB))   # matplotlib displays in RGB format, so we do color space conversion\n",
    "plt.xticks([]), plt.yticks([]) # remove axes ticks from the image plot\n",
    "plt.show()"
   ]
  },
  {
   "cell_type": "markdown",
   "metadata": {},
   "source": [
    "### Working with Video data\n",
    "#### Ref\n",
    "[Getting started with Videos](https://opencv-python-tutroals.readthedocs.io/en/latest/py_tutorials/py_gui/py_video_display/py_video_display.html)\n",
    "#### Notes\n",
    "1. Basics of Reading, displaying and writing video file."
   ]
  },
  {
   "cell_type": "code",
   "execution_count": 1,
   "metadata": {},
   "outputs": [],
   "source": [
    "# Capture Video from camera\n",
    "# We create a VideoCapture object. Its constructor argument is either device index(0/-1/2) or path of video file.\n",
    "# we can then capture individual franes with .read() method, and finally we .release() it.\n",
    "\n",
    "import cv2"
   ]
  },
  {
   "cell_type": "code",
   "execution_count": 6,
   "metadata": {},
   "outputs": [
    {
     "name": "stdout",
     "output_type": "stream",
     "text": [
      "width -  640.0\n",
      "height -  480.0\n"
     ]
    }
   ],
   "source": [
    "cap = cv2.VideoCapture(0)\n",
    "print(\"width - \",cap.get(3))\n",
    "print(\"height - \",cap.get(4))\n",
    "while(True):\n",
    "    # capture frame by frame as BGR\n",
    "    retVal, frame = cap.read()\n",
    "    \n",
    "    # convert to Grayscale\n",
    "    frame = cv2.cvtColor(frame, cv2.COLOR_BGR2GRAY)\n",
    "    \n",
    "    # Display frame by frame\n",
    "    cv2.imshow('Video display in gray', frame)\n",
    "    if cv2.waitKey(1) & 0xff == ord('q'):\n",
    "        break\n",
    "# Finally release cap object and close window\n",
    "cap.release()\n",
    "cv2.destroyAllWindows()    "
   ]
  },
  {
   "cell_type": "code",
   "execution_count": 2,
   "metadata": {},
   "outputs": [
    {
     "name": "stdout",
     "output_type": "stream",
     "text": [
      "width -  1920.0\n",
      "height -  1080.0\n"
     ]
    }
   ],
   "source": [
    "# Play Video from a file\n",
    "cap = cv2.VideoCapture('/home/cognitifai/Videos/DEMO_sublime_text_sftp.webm')\n",
    "print(\"width - \",cap.get(3))\n",
    "print(\"height - \",cap.get(4))\n",
    "\n",
    "while cap.isOpened():\n",
    "    retVal, frame = cap.read()\n",
    "    if retVal:\n",
    "        cv2.imshow('Video display', frame)\n",
    "        if cv2.waitKey(1) & 0xFF == ord('q'):\n",
    "            break\n",
    "    else:\n",
    "        break\n",
    "cap.release()\n",
    "cv2.destroyAllWindows()"
   ]
  },
  {
   "cell_type": "code",
   "execution_count": null,
   "metadata": {},
   "outputs": [],
   "source": []
  }
 ],
 "metadata": {
  "kernelspec": {
   "display_name": "Python 3",
   "language": "python",
   "name": "python3"
  },
  "language_info": {
   "codemirror_mode": {
    "name": "ipython",
    "version": 3
   },
   "file_extension": ".py",
   "mimetype": "text/x-python",
   "name": "python",
   "nbconvert_exporter": "python",
   "pygments_lexer": "ipython3",
   "version": "3.5.2"
  }
 },
 "nbformat": 4,
 "nbformat_minor": 2
}
